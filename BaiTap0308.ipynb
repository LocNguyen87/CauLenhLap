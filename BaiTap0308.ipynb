{
 "cells": [
  {
   "cell_type": "code",
   "execution_count": 4,
   "id": "32d2900d",
   "metadata": {},
   "outputs": [
    {
     "name": "stdout",
     "output_type": "stream",
     "text": [
      "Nhập họ tên:        nGuYễn  lÂm  bẢo    lỘc\n",
      "Nguyễn Lâm Bảo Lộc\n"
     ]
    }
   ],
   "source": [
    "name = input('Nhập họ tên: ')\n",
    "name = name.lower().strip().split()\n",
    "new_name = ''\n",
    "i = 0\n",
    "while i < len(name):\n",
    "    new_name += name[i][0].upper() + name[i][1:] + ' '\n",
    "    i+=1\n",
    "print(new_name.strip())"
   ]
  },
  {
   "cell_type": "code",
   "execution_count": 8,
   "id": "e4ef0778",
   "metadata": {},
   "outputs": [
    {
     "name": "stdout",
     "output_type": "stream",
     "text": [
      "Nhập vào chuỗi: nguyenl129203nall\n",
      "- Có 6 ký tự là chữ số\n",
      "- Có 3 nguyên âm\n"
     ]
    }
   ],
   "source": [
    "# Nhập vào 1 chuỗi\n",
    "# 1. Kiểm tra chuỗi đó có chứa ký tự nguyên âm hay không?\n",
    "# 2. Đếm xem trong chuỗi vừa nhập có bao nhiêu nguyên âm? ueoai\n",
    "# 3. Có bao nhiêu ký tự là chữ số?\n",
    "\n",
    "text  = input('Nhập vào chuỗi: ').lower()\n",
    "chuso = 0\n",
    "nguyenam = 0\n",
    "i = 0\n",
    "while i < len(text):\n",
    "    if text[i].isdigit():\n",
    "        chuso += 1\n",
    "    elif text[i] == 'a' or text[i] == 'e' or text[i] == 'i' or text[i] == 'o' or text[i] == 'u':\n",
    "        nguyenam += 1\n",
    "    i+=1\n",
    "print(f'- Có {chuso} ký tự là chữ số')\n",
    "print(f'- Có {nguyenam} nguyên âm')"
   ]
  },
  {
   "cell_type": "code",
   "execution_count": null,
   "id": "d3915737",
   "metadata": {},
   "outputs": [],
   "source": []
  }
 ],
 "metadata": {
  "kernelspec": {
   "display_name": "Python 3 (ipykernel)",
   "language": "python",
   "name": "python3"
  },
  "language_info": {
   "codemirror_mode": {
    "name": "ipython",
    "version": 3
   },
   "file_extension": ".py",
   "mimetype": "text/x-python",
   "name": "python",
   "nbconvert_exporter": "python",
   "pygments_lexer": "ipython3",
   "version": "3.9.12"
  }
 },
 "nbformat": 4,
 "nbformat_minor": 5
}
