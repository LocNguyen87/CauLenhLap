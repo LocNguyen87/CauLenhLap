{
 "cells": [
  {
   "cell_type": "code",
   "execution_count": 3,
   "id": "2ee9562d",
   "metadata": {},
   "outputs": [
    {
     "name": "stdout",
     "output_type": "stream",
     "text": [
      "Nhập vào 1 số: 5\n",
      "Giai thừa của N là:  120\n"
     ]
    }
   ],
   "source": [
    "# Nhập vào 1 số N, tính giai thừa của N\n",
    "num = int(input('Nhập vào 1 số: '))\n",
    "giaithua = 1\n",
    "i = 1\n",
    "while i <= num:\n",
    "    giaithua *= i\n",
    "    i+=1\n",
    "print('Giai thừa của N là: ', giaithua)"
   ]
  },
  {
   "cell_type": "code",
   "execution_count": 13,
   "id": "6c1431e8",
   "metadata": {},
   "outputs": [
    {
     "name": "stdout",
     "output_type": "stream",
     "text": [
      "Nhập vào 1 số: 6\n",
      "6 là hợp số\n"
     ]
    }
   ],
   "source": [
    "# Nhập vào 1 số N, in ra màn hình tất cả các số là ước của N\n",
    "num = int(input('Nhập vào 1 số: '))\n",
    "i = num\n",
    "c = 0\n",
    "while i > 0:\n",
    "    if num%i == 0: \n",
    "        c += 1\n",
    "    i -= 1\n",
    "if c == 2:\n",
    "    print('{} là số nguyên tố'.format(num))\n",
    "else:\n",
    "    print('{} là hợp số'.format(num))"
   ]
  },
  {
   "cell_type": "code",
   "execution_count": null,
   "id": "c1965499",
   "metadata": {},
   "outputs": [],
   "source": []
  }
 ],
 "metadata": {
  "kernelspec": {
   "display_name": "Python 3 (ipykernel)",
   "language": "python",
   "name": "python3"
  },
  "language_info": {
   "codemirror_mode": {
    "name": "ipython",
    "version": 3
   },
   "file_extension": ".py",
   "mimetype": "text/x-python",
   "name": "python",
   "nbconvert_exporter": "python",
   "pygments_lexer": "ipython3",
   "version": "3.9.12"
  }
 },
 "nbformat": 4,
 "nbformat_minor": 5
}
