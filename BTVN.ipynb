{
 "cells": [
  {
   "cell_type": "code",
   "execution_count": 44,
   "id": "5346f66e",
   "metadata": {},
   "outputs": [
    {
     "name": "stdout",
     "output_type": "stream",
     "text": [
      "Nhập mã vạch để kiểm tra: 4902778120972\n",
      "4902778120972 là mã vạch đúng\n"
     ]
    }
   ],
   "source": [
    "# Bài 1: \n",
    "ma = input('Nhập mã vạch để kiểm tra: ')\n",
    "if len(ma) != 13 or ma.isdigit() != True:\n",
    "    print('Mã vạch không đúng độ dài hoặc định dạng 13 chữ số')\n",
    "else:\n",
    "    i = A = B = D = 0\n",
    "    C = int(ma[12])\n",
    "    while i < 12:\n",
    "        # số i chẵn nhưng vị trí lẻ\n",
    "        if i%2 == 0: \n",
    "            A += int(ma[i])\n",
    "        # số i lẻ nhưng vị trí chẵn\n",
    "        else: \n",
    "            B += int(ma[i])\n",
    "        i+=1\n",
    "    D = A + 3*B\n",
    "    soduD = D % 10\n",
    "    if soduD != 0:\n",
    "        F = 10 -soduD\n",
    "    else:\n",
    "        F = 0\n",
    "    if F == C:\n",
    "        print(f'{ma} là mã vạch đúng')\n",
    "    else:\n",
    "        print(f'{ma} là mã vạch sai')"
   ]
  },
  {
   "cell_type": "code",
   "execution_count": 43,
   "id": "f073b0a6",
   "metadata": {},
   "outputs": [
    {
     "name": "stdout",
     "output_type": "stream",
     "text": [
      "Nhập số tự nhiên N: 250\n",
      "3, 9, 15, 21, 27, 33, 39, 45, 51, 57, 63, 69, 75, 81, 87, 93, 99, 105, 111, 117, 123, 129, 135, 141, 147, 153, 159, 165, 171, 177, 183, 189, 195, 201, 207, 213, 219, 225, 231, 237, 243, 249, "
     ]
    }
   ],
   "source": [
    "# Bài 2: \n",
    "num = int(input('Nhập số tự nhiên N: '))\n",
    "i = 1\n",
    "while i < num:\n",
    "    if i % 3 == 0:\n",
    "        if i % 6 != 0:\n",
    "            print(i, end=', ')\n",
    "    i += 1"
   ]
  },
  {
   "cell_type": "code",
   "execution_count": null,
   "id": "4e93d0cd",
   "metadata": {},
   "outputs": [],
   "source": []
  }
 ],
 "metadata": {
  "kernelspec": {
   "display_name": "Python 3 (ipykernel)",
   "language": "python",
   "name": "python3"
  },
  "language_info": {
   "codemirror_mode": {
    "name": "ipython",
    "version": 3
   },
   "file_extension": ".py",
   "mimetype": "text/x-python",
   "name": "python",
   "nbconvert_exporter": "python",
   "pygments_lexer": "ipython3",
   "version": "3.9.12"
  }
 },
 "nbformat": 4,
 "nbformat_minor": 5
}
