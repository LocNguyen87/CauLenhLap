{
 "cells": [
  {
   "cell_type": "code",
   "execution_count": 21,
   "id": "67060aaf",
   "metadata": {},
   "outputs": [
    {
     "name": "stdout",
     "output_type": "stream",
     "text": [
      "Nhập số A: 36\n",
      "Nhập số B: 86\n",
      "Ước số của A là: ['2', '3', '4', '6', '9', '12', '18']\n",
      "Ước số của B là: ['2', '43']\n",
      "=> 2 là ước chung lớn nhất của số 36 và số 86\n"
     ]
    }
   ],
   "source": [
    "# BTVN 1: Tìm ước chung lớn nhất của hai số nguyên nhập vào từ bàn phím\n",
    "a = int(input('Nhập số A: '))\n",
    "b = int(input('Nhập số B: '))\n",
    "dayuocsoA = dayuocsoB = ''\n",
    "# tìm ước của A\n",
    "i = 2\n",
    "while i <= a/2:\n",
    "    if a % i == 0:\n",
    "        dayuocsoA += str(i) + ' '\n",
    "    i+=1\n",
    "# tìm ước của B\n",
    "j = 2\n",
    "while j <= b/2:\n",
    "    if b % j == 0:\n",
    "        dayuocsoB += str(j) + ' '\n",
    "    j+=1\n",
    "uocsoA = dayuocsoA.split()\n",
    "print('Ước số của A là:', end=' ')\n",
    "print(uocsoA)\n",
    "uocsoB = dayuocsoB.split()\n",
    "print('Ước số của B là:', end=' ')\n",
    "print(uocsoB)\n",
    "uocchunglonnhat = 0\n",
    "if len(uocsoA) == 0 or len(uocsoB) == 0:\n",
    "    print(f'Không có ước chung lớn nhất của số {a} và số {b}')\n",
    "else:\n",
    "    x = 0\n",
    "    while x < len(uocsoA):\n",
    "        y = 0\n",
    "        while y < len(uocsoB):\n",
    "            if uocsoA[x] == uocsoB[y]:\n",
    "                uocchunglonnhat = uocsoA[x]\n",
    "            y += 1\n",
    "        x += 1\n",
    "    print(f'=> {uocchunglonnhat} là ước chung lớn nhất của số {a} và số {b}')"
   ]
  },
  {
   "cell_type": "code",
   "execution_count": null,
   "id": "93e305b7",
   "metadata": {},
   "outputs": [],
   "source": [
    "# Bài 2: Tìm nghiệm gần đúng của hàm f(x) = e^x + sin(x) \n",
    "# trong khoảng [-1, 1], \n",
    "# với sai lệnh của nghiệm là alpha = 0.00001. \n",
    "# Gợi ý: dùng phương pháp chia đôi\n",
    "# https://timoday.edu.vn/wp-content/uploads/2020/03/Phuong-phap-chia-doi.pdf\n",
    "import math\n",
    "\n",
    "a = -1\n",
    "b = 1\n",
    "alpha = 0.00001\n",
    "n = 0\n",
    "delta = \n",
    "while n < \n"
   ]
  },
  {
   "cell_type": "code",
   "execution_count": 44,
   "id": "5346f66e",
   "metadata": {},
   "outputs": [
    {
     "name": "stdout",
     "output_type": "stream",
     "text": [
      "Nhập mã vạch để kiểm tra: 4902778120972\n",
      "4902778120972 là mã vạch đúng\n"
     ]
    }
   ],
   "source": [
    "# Bài 1: \n",
    "ma = input('Nhập mã vạch để kiểm tra: ')\n",
    "if len(ma) != 13 or ma.isdigit() != True:\n",
    "    print('Mã vạch không đúng độ dài hoặc định dạng 13 chữ số')\n",
    "else:\n",
    "    i = A = B = D = 0\n",
    "    C = int(ma[12])\n",
    "    while i < 12:\n",
    "        # số i chẵn nhưng vị trí lẻ\n",
    "        if i%2 == 0: \n",
    "            A += int(ma[i])\n",
    "        # số i lẻ nhưng vị trí chẵn\n",
    "        else: \n",
    "            B += int(ma[i])\n",
    "        i+=1\n",
    "    D = A + 3*B\n",
    "    soduD = D % 10\n",
    "    if soduD != 0:\n",
    "        F = 10 -soduD\n",
    "    else:\n",
    "        F = 0\n",
    "    if F == C:\n",
    "        print(f'{ma} là mã vạch đúng')\n",
    "    else:\n",
    "        print(f'{ma} là mã vạch sai')"
   ]
  },
  {
   "cell_type": "code",
   "execution_count": 1,
   "id": "f073b0a6",
   "metadata": {},
   "outputs": [
    {
     "name": "stdout",
     "output_type": "stream",
     "text": [
      "Nhập số tự nhiên N: 250\n",
      "3, 9, 15, 21, 27, 33, 39, 45, 51, 57, 63, 69, 75, 81, 87, 93, 99, 105, 111, 117, 123, 129, 135, 141, 147, 153, 159, 165, 171, 177, 183, 189, 195, 201, 207, 213, 219, 225, 231, 237, 243, 249, "
     ]
    }
   ],
   "source": [
    "# Bài 2: \n",
    "num = int(input('Nhập số tự nhiên N: '))\n",
    "i = 1\n",
    "while i < num:\n",
    "    if i % 3 == 0 and i % 6 != 0:\n",
    "            print(i, end=', ')\n",
    "    i += 1"
   ]
  },
  {
   "cell_type": "code",
   "execution_count": null,
   "id": "4e93d0cd",
   "metadata": {},
   "outputs": [],
   "source": []
  }
 ],
 "metadata": {
  "kernelspec": {
   "display_name": "Python 3 (ipykernel)",
   "language": "python",
   "name": "python3"
  },
  "language_info": {
   "codemirror_mode": {
    "name": "ipython",
    "version": 3
   },
   "file_extension": ".py",
   "mimetype": "text/x-python",
   "name": "python",
   "nbconvert_exporter": "python",
   "pygments_lexer": "ipython3",
   "version": "3.9.12"
  }
 },
 "nbformat": 4,
 "nbformat_minor": 5
}
